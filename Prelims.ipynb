{
 "cells": [
  {
   "cell_type": "markdown",
   "id": "bf53d7cc-d203-4d18-ae6a-a87b9f42dc62",
   "metadata": {},
   "source": [
    "**Name**:\n",
    "\n",
    "**Section**:\n",
    "\n",
    "**Date**:"
   ]
  },
  {
   "cell_type": "code",
   "execution_count": null,
   "id": "a9bced12-80d7-42f4-a0df-0d2d2e436e05",
   "metadata": {},
   "outputs": [],
   "source": []
  },
  {
   "cell_type": "code",
   "execution_count": null,
   "id": "2279bcde-dda6-4974-8457-740a1bf277dc",
   "metadata": {},
   "outputs": [],
   "source": []
  },
  {
   "cell_type": "code",
   "execution_count": null,
   "id": "3b782a08-df1d-494a-9e2d-8a6260441925",
   "metadata": {},
   "outputs": [],
   "source": []
  },
  {
   "cell_type": "code",
   "execution_count": null,
   "id": "d1e18c5a-09bb-4e08-9f87-a354a4642d99",
   "metadata": {},
   "outputs": [],
   "source": []
  },
  {
   "cell_type": "code",
   "execution_count": null,
   "id": "f5c4f023-1e67-4a19-b496-9b58efcb1aa1",
   "metadata": {},
   "outputs": [],
   "source": []
  },
  {
   "cell_type": "code",
   "execution_count": null,
   "id": "88bc98f9-e249-4264-b385-890b5b27618a",
   "metadata": {},
   "outputs": [],
   "source": []
  },
  {
   "cell_type": "code",
   "execution_count": null,
   "id": "0e442b89-6a6a-40d5-b5a4-0e24fc9ccaf5",
   "metadata": {},
   "outputs": [],
   "source": []
  }
 ],
 "metadata": {
  "kernelspec": {
   "display_name": "Python 3 (ipykernel)",
   "language": "python",
   "name": "python3"
  },
  "language_info": {
   "codemirror_mode": {
    "name": "ipython",
    "version": 3
   },
   "file_extension": ".py",
   "mimetype": "text/x-python",
   "name": "python",
   "nbconvert_exporter": "python",
   "pygments_lexer": "ipython3",
   "version": "3.12.7"
  }
 },
 "nbformat": 4,
 "nbformat_minor": 5
}
