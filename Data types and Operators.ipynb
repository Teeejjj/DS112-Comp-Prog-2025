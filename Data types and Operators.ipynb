{
 "cells": [
  {
   "cell_type": "markdown",
   "id": "93621843-6285-4b67-8a8a-def30e46a1a6",
   "metadata": {},
   "source": [
    "# Python Data Types"
   ]
  },
  {
   "cell_type": "markdown",
   "id": "70a3edd4-d766-40d9-b65a-c8f5fd6d5e5b",
   "metadata": {},
   "source": [
    "| Dtype |     |\n",
    "|------ | ----|\n",
    "| int or integer | `Whole Numbers` - 1 , 2 , 10 , 26 , 100 , 500 , 100000 |\n",
    "| floating point or float | `Numbers with Decimals` - 1.1, 1.2, 27.8, 100.10|\n",
    "| complex |  `holds numbers with real and imaginary part` - 1j , 4+5j |\n",
    "| String or str | `Text` - \"Hello\", \"World\", \"Hello World!!\" |\n",
    "| Boolean or bool | `True or False`|\n",
    "| Lists | `Ordered collection of items` - ['apple', 'oranges', 'grapes'] |\n",
    "| Tuples | `Ordered but unchangeable collection` - (10,20,30) |\n",
    "| Dictionary | `Key-value pairs` - {'Name1': 'Alvin', 'Name2': 'Simon', 'Name3':'Theodore'} |"
   ]
  },
  {
   "cell_type": "code",
   "execution_count": 2,
   "id": "021cf4a9-fe49-40c9-a4a6-186d4d223383",
   "metadata": {
    "execution": {
     "iopub.execute_input": "2025-09-10T14:24:28.728081Z",
     "iopub.status.busy": "2025-09-10T14:24:28.728081Z",
     "iopub.status.idle": "2025-09-10T14:24:28.734336Z",
     "shell.execute_reply": "2025-09-10T14:24:28.733787Z",
     "shell.execute_reply.started": "2025-09-10T14:24:28.728081Z"
    }
   },
   "outputs": [],
   "source": [
    "x = 10\n",
    "y = 2.5\n",
    "z = 1j\n",
    "a = \"Hello!\"\n",
    "b = True"
   ]
  },
  {
   "cell_type": "code",
   "execution_count": 4,
   "id": "cbbb541e-c713-4193-af82-17df173270ad",
   "metadata": {
    "execution": {
     "iopub.execute_input": "2025-09-10T14:26:32.744538Z",
     "iopub.status.busy": "2025-09-10T14:26:32.743526Z",
     "iopub.status.idle": "2025-09-10T14:26:32.752572Z",
     "shell.execute_reply": "2025-09-10T14:26:32.752055Z",
     "shell.execute_reply.started": "2025-09-10T14:26:32.744538Z"
    }
   },
   "outputs": [
    {
     "name": "stdout",
     "output_type": "stream",
     "text": [
      "<class 'int'>\n",
      "<class 'float'>\n",
      "<class 'complex'>\n",
      "<class 'str'>\n",
      "<class 'bool'>\n"
     ]
    }
   ],
   "source": [
    "print(type(x)) # Should show class int\n",
    "print(type(y)) # Should show class float\n",
    "print(type(z)) # Should show class complex\n",
    "print(type(a)) # Should show class str\n",
    "print(type(b)) # Should show class bool"
   ]
  },
  {
   "cell_type": "code",
   "execution_count": 10,
   "id": "ea515af3-d58a-4cf2-8cb2-5d33ad6f69c2",
   "metadata": {
    "execution": {
     "iopub.execute_input": "2025-09-10T14:31:27.559655Z",
     "iopub.status.busy": "2025-09-10T14:31:27.558625Z",
     "iopub.status.idle": "2025-09-10T14:31:27.570291Z",
     "shell.execute_reply": "2025-09-10T14:31:27.569271Z",
     "shell.execute_reply.started": "2025-09-10T14:31:27.559655Z"
    }
   },
   "outputs": [
    {
     "name": "stdout",
     "output_type": "stream",
     "text": [
      "<class 'list'>\n",
      "<class 'tuple'>\n",
      "<class 'dict'>\n"
     ]
    }
   ],
   "source": [
    "lst = ['apple', 'orange', 'grapes']\n",
    "tpl = ('apple', 'orange', 'grapes')\n",
    "dct = {'Name': 'Arnold', 'Employed': True}\n",
    "\n",
    "print(type(lst)) # Should show class list\n",
    "print(type(tpl)) # Should show class tuple\n",
    "print(type(dct)) # Should show class dict"
   ]
  },
  {
   "cell_type": "markdown",
   "id": "da0c69b4-ddab-4d46-a80f-f942f01223bd",
   "metadata": {},
   "source": [
    "---\n",
    "Try getting their types: <br>\n",
    "- x = 5+ 7j\n",
    "- x = \"12345\"\n",
    "- x = (25, '26', 27)\n",
    "- x = range(6)\n",
    "- x = -57\n",
    "---"
   ]
  },
  {
   "cell_type": "code",
   "execution_count": null,
   "id": "b9346097-2374-4731-89fe-c0d9d47dc7b1",
   "metadata": {},
   "outputs": [],
   "source": [
    "# <- Answer here -> #"
   ]
  },
  {
   "cell_type": "markdown",
   "id": "88f2937c-7f79-47d0-87c3-c2f67662f655",
   "metadata": {},
   "source": [
    "---"
   ]
  },
  {
   "cell_type": "markdown",
   "id": "ed2d41ea-852c-41f6-81c6-8ebbbe1ea765",
   "metadata": {},
   "source": [
    "# Casting - Specify a variable type"
   ]
  },
  {
   "cell_type": "markdown",
   "id": "2f56846c-5e82-4d93-840f-fdc7571795a6",
   "metadata": {},
   "source": [
    "Casting is done using constructor functions:\n",
    "\n",
    "- ▹ `int()` - constructs an integer number from an integer literal, a float literal (by rounding down to the previous \n",
    "whole number), or a string literal (providing the string represents a whole number)\n",
    "- ▹ `float()` - constructs a float number from an integer literal, a float literal or a string literal (providing the \n",
    "string represents a float or an integer)\n",
    "- ▹ `str()` - constructs a string from a wide variety of data types, including strings, integer literals and float \n",
    "literals"
   ]
  },
  {
   "cell_type": "code",
   "execution_count": 13,
   "id": "228da501-9584-4969-ba29-41433ec56283",
   "metadata": {
    "execution": {
     "iopub.execute_input": "2025-09-10T14:45:56.999591Z",
     "iopub.status.busy": "2025-09-10T14:45:56.998560Z",
     "iopub.status.idle": "2025-09-10T14:45:57.019703Z",
     "shell.execute_reply": "2025-09-10T14:45:57.017921Z",
     "shell.execute_reply.started": "2025-09-10T14:45:56.999591Z"
    }
   },
   "outputs": [
    {
     "data": {
      "text/plain": [
       "int"
      ]
     },
     "metadata": {},
     "output_type": "display_data"
    },
    {
     "data": {
      "text/plain": [
       "float"
      ]
     },
     "metadata": {},
     "output_type": "display_data"
    },
    {
     "data": {
      "text/plain": [
       "str"
      ]
     },
     "metadata": {},
     "output_type": "display_data"
    }
   ],
   "source": [
    "x = int(10)\n",
    "y = float(10)\n",
    "s = str(10)\n",
    "\n",
    "display(type(x), type(y), type(s))"
   ]
  },
  {
   "cell_type": "code",
   "execution_count": 17,
   "id": "48a7cb85-6920-45f3-811c-180ba48e8515",
   "metadata": {
    "execution": {
     "iopub.execute_input": "2025-09-10T14:56:32.518614Z",
     "iopub.status.busy": "2025-09-10T14:56:32.517240Z",
     "iopub.status.idle": "2025-09-10T14:56:32.547053Z",
     "shell.execute_reply": "2025-09-10T14:56:32.546029Z",
     "shell.execute_reply.started": "2025-09-10T14:56:32.518614Z"
    }
   },
   "outputs": [
    {
     "data": {
      "text/plain": [
       "123"
      ]
     },
     "metadata": {},
     "output_type": "display_data"
    },
    {
     "data": {
      "text/plain": [
       "123"
      ]
     },
     "metadata": {},
     "output_type": "display_data"
    },
    {
     "data": {
      "text/plain": [
       "123"
      ]
     },
     "metadata": {},
     "output_type": "display_data"
    },
    {
     "name": "stdout",
     "output_type": "stream",
     "text": [
      "------------------------------\n"
     ]
    },
    {
     "data": {
      "text/plain": [
       "int"
      ]
     },
     "metadata": {},
     "output_type": "display_data"
    },
    {
     "data": {
      "text/plain": [
       "int"
      ]
     },
     "metadata": {},
     "output_type": "display_data"
    },
    {
     "data": {
      "text/plain": [
       "int"
      ]
     },
     "metadata": {},
     "output_type": "display_data"
    }
   ],
   "source": [
    "x = int(123) # basic integer\n",
    "y = int(123.45) # but what if its in a decimal form?\n",
    "z = int(\"123\") # or as a string value?\n",
    "\n",
    "## What do you think would happen? ##\n",
    "\n",
    "display(x , y , z)\n",
    "print('---'*10)\n",
    "display(type(x), type(y), type(z))"
   ]
  },
  {
   "cell_type": "code",
   "execution_count": 13,
   "id": "0db64055-6d83-4853-9fc4-231e4122645a",
   "metadata": {
    "execution": {
     "iopub.execute_input": "2025-09-11T09:02:21.159552Z",
     "iopub.status.busy": "2025-09-11T09:02:21.159552Z",
     "iopub.status.idle": "2025-09-11T09:02:21.181578Z",
     "shell.execute_reply": "2025-09-11T09:02:21.181578Z",
     "shell.execute_reply.started": "2025-09-11T09:02:21.159552Z"
    }
   },
   "outputs": [
    {
     "data": {
      "text/plain": [
       "123.0"
      ]
     },
     "metadata": {},
     "output_type": "display_data"
    },
    {
     "data": {
      "text/plain": [
       "123.45"
      ]
     },
     "metadata": {},
     "output_type": "display_data"
    },
    {
     "data": {
      "text/plain": [
       "123.19"
      ]
     },
     "metadata": {},
     "output_type": "display_data"
    }
   ],
   "source": [
    "## How about for float? ##\n",
    "x = float(123)\n",
    "y = float(123.45)\n",
    "z = float(\"123.190\")\n",
    "display(x,y,z)"
   ]
  },
  {
   "cell_type": "markdown",
   "id": "5838253c-e4ab-407e-b595-4ef239610cb8",
   "metadata": {},
   "source": [
    "# A 'coded' explaination"
   ]
  },
  {
   "cell_type": "code",
   "execution_count": 12,
   "id": "c67d3d65-bcfc-4f0f-9453-3205855144dc",
   "metadata": {
    "execution": {
     "iopub.execute_input": "2025-09-11T21:26:02.104368Z",
     "iopub.status.busy": "2025-09-11T21:26:02.098588Z",
     "iopub.status.idle": "2025-09-11T21:26:02.152219Z",
     "shell.execute_reply": "2025-09-11T21:26:02.152219Z",
     "shell.execute_reply.started": "2025-09-11T21:26:02.104368Z"
    },
    "jupyter": {
     "source_hidden": true
    }
   },
   "outputs": [],
   "source": [
    "import pandas as pd\n",
    "\n",
    "def choice():\n",
    "    while True:\n",
    "        display(pd.DataFrame({'Datatype':['Numbers', 'Strings', 'Lists, Tuples, and Dictionary']}))\n",
    "        choice = str(input('What do you want to talk about? '))\n",
    "    \n",
    "        if 'num' in choice.lower() or '0' in choice:\n",
    "            print('You have chosen Numbers!')\n",
    "            return 'numbers'\n",
    "        elif 'str' in choice.lower() or '1' in choice:\n",
    "            print('You have chosen String!')\n",
    "            return 'string'\n",
    "        elif 'list' in choice.lower() or '2' in choice:\n",
    "            print('You have chosen Lists!')\n",
    "            return 'list'\n",
    "        else:\n",
    "            break\n",
    "\n",
    "def explanation(selected):\n",
    "    choice_lower = selected.lower()\n",
    "    if 'num' in choice_lower:\n",
    "        print(\"\"\"There are three numeric types:\n",
    "        - Integer > Whole Number, Positive or Negative Numbers\n",
    "        - Float > Floating point number, Decimals, Positive or Negative > Can also be a Scientific Number (90.7e100)\n",
    "        - Complex > Numbers written with a j as the imaginary part\n",
    "        \n",
    "        Type Conversion:\n",
    "        - int()\n",
    "        - float()\n",
    "        - complex()\n",
    "        \"\"\")\n",
    "        \n",
    "    elif 'str' in choice_lower:\n",
    "        print(\"\"\"\n",
    "        - String literals - enclosed in single or double quotes. 'hello' and \"hello\" are the same.\n",
    "        - Multiline Strings - Assign multiline strings to a variable by using three quotes\n",
    "\n",
    "        Strings as Arrays:\n",
    "        a = 'Hello World'\n",
    "        [H,e,l,l,o, ,W,o,r,l,d]\n",
    "        [0 1 2 3 4 5 6 7 8 9 10]\n",
    "\n",
    "        print(a[4])\n",
    "        Output: o\n",
    "\n",
    "        Slicing:\n",
    "        print(a[2:5])\n",
    "        Output: llo\n",
    "\n",
    "        Negative Indexing: Use negative indexes to start the slice from the end of the string\n",
    "        [-11(H) -10(e) -9(l) -8(l) -7(o) -6(' ') -5(W) -4('o') -3('r') -2('l') -1('d')]\n",
    "        print(a[-5:-2])\n",
    "        Output: Wor\n",
    "\n",
    "        Check the lenth of the string:\n",
    "        print(len(a))\n",
    "        Output: 11\n",
    "        \n",
    "        -----------------------------------------------------------------------------\n",
    "        String Methods:\n",
    "        \n",
    "        a = \"  Hello  \"\n",
    "        strip()   - removes any whitespaces from the beginning or the end of the string\n",
    "                print(a.strip())\n",
    "                \"Hello\"\n",
    "        lower()   - converts string to lowercase\n",
    "                print(a.lower()) # Assume a.strip()\n",
    "                \"hello\"\n",
    "        upper()   - converts string to uppercase\n",
    "                print(a.upper()) # Assume a.strip()\n",
    "                \"HELLO\"\n",
    "        replace() - replaces a string with another string\n",
    "                print(a.replace('H', 'J')) # Assume a.strip()\n",
    "                \"Jello\"\n",
    "        split()   - split string into substrings if it finds instances of the separator\n",
    "                a = 'Hel,lo'\n",
    "                print(a.split(','))\n",
    "                ['Hel', 'lo']\n",
    "\n",
    "        ---------------------------------------------------------------------------\n",
    "        Check if string exist:  To check if a certain phrase or character is present in a string, we can use the keywords in or not in.\n",
    "        \n",
    "            text = \"Hello World everyone!\"\n",
    "            x = \"one\" in text\n",
    "            y = \"one\" not in text\n",
    "            print(x)\n",
    "            print(y)\n",
    "\n",
    "            Output: True   -- because \"one\" exists in our string, 'everyone'\n",
    "                    False  -- because \"one\" does exist in our string, hence False\n",
    "                    \n",
    "        ----------------------------------------------------------------------------\n",
    "                          FEW WAYS TO FORMAT YOUR STRING !\n",
    "\n",
    "        a = 'hello'\n",
    "        b = 'world'\n",
    "        c = 120\n",
    "        \n",
    "        using .format()                 - x = \"variables a: {}, b: {}, c: {} \"  print(x.format(a,b,c))\n",
    "        using string format operator %  - print(\"Variables %s and %d\" % ('hello', 120))\n",
    "\n",
    "        concatenation \n",
    "            a = 'hello'\n",
    "            b = 'world'\n",
    "            print(a+b)\n",
    "\n",
    "        repitition\n",
    "            print(a*3)\n",
    "            hellohellohello\n",
    "        \"\"\")\n",
    "        \n",
    "    elif 'list' in choice_lower:\n",
    "        print(\"\"\"\n",
    "        PYTHON LISTS\n",
    "\n",
    "        List → flexible, good for ordered collections you want to modify often.\n",
    "        Tuple → fixed, good for data you don’t want changed.\n",
    "        Dictionary → great for paired data (like name–age, product–price).\n",
    "\n",
    "\n",
    "        ##### -- LISTS - (Ordered, Changeble, allow duplicates) -- ####\n",
    "        ---------------------------------------------------------------\n",
    "        fruits = [\"apple\", \"banana\", \"cherry\"]\n",
    "\n",
    "        # Add\n",
    "        fruits.append(\"orange\")       # add to end\n",
    "        fruits.insert(1, \"mango\")     # insert at index\n",
    "        fruits.extend([\"kiwi\", \"melon\"])  # add multiple\n",
    "        \n",
    "        # Replace\n",
    "        fruits[0] = \"grapes\"\n",
    "        \n",
    "        # Delete\n",
    "        fruits.remove(\"banana\")   # by value\n",
    "        fruits.pop(2)             # by index\n",
    "        del fruits[0]             # delete specific index\n",
    "        fruits.clear()            # empty list\n",
    "        \n",
    "        # Other functions\n",
    "        len(fruits)        # length\n",
    "        fruits.sort()      # sort\n",
    "        fruits.reverse()   # reverse order\n",
    "        fruits.count(\"apple\")   # count items\n",
    "        fruits.index(\"mango\")   # find index\n",
    "        \n",
    "\n",
    "        ##### -- TUPLES - (Ordered, Unchangeble, allow duplicates) -- ####\n",
    "        -----------------------------------------------------------------\n",
    "        Tuples are immutable --- You cannot add, remove, or replace elements directly\n",
    "\n",
    "        animals = (\"dog\", \"cat\", \"bird\")\n",
    "\n",
    "        # Access\n",
    "        print(animals[0])   # dog\n",
    "        \n",
    "        # Useful methods\n",
    "        animals.count(\"cat\")   # how many times 'cat' appears\n",
    "        animals.index(\"bird\")  # position of 'bird'\n",
    "        \n",
    "        # \"Modify\" workaround\n",
    "        temp = list(animals)\n",
    "        temp.append(\"fish\")\n",
    "        animals = tuple(temp)  # new tuple\n",
    "\n",
    "\n",
    "        ##### -- DICTIONARY - (Unordered, key-value pairs, no duplicate keys) -- ####\n",
    "        ------------------------------------------------------------------------------\n",
    "        student = {\"name\": \"Anna\", \"age\": 20, \"course\": \"CS\"}\n",
    "\n",
    "        # Add\n",
    "        student[\"grade\"] = \"A\"\n",
    "        \n",
    "        # Update\n",
    "        student[\"age\"] = 21\n",
    "        student.update({\"course\": \"Data Science\"})\n",
    "        \n",
    "        # Delete\n",
    "        student.pop(\"grade\")   # remove by key\n",
    "        del student[\"course\"]  # delete specific key\n",
    "        student.clear()        # empty dictionary\n",
    "        \n",
    "        # Other functions\n",
    "        student.keys()    # all keys\n",
    "        student.values()  # all values\n",
    "        student.items()   # all key-value pairs\n",
    "        len(student)      # number of items\n",
    "\n",
    "\n",
    "        ##### -- SETS - (Unordered, Changeble, no duplicates) -- ####\n",
    "        -----------------------------------------------------------------\n",
    "        fruits = {\"apple\", \"banana\", \"cherry\"}\n",
    "\n",
    "        # Add\n",
    "        fruits.add(\"orange\")           # add one item\n",
    "        fruits.update([\"mango\", \"kiwi\"])  # add multiple items\n",
    "\n",
    "        # Delete\n",
    "        fruits.remove(\"banana\")   # removes banana (error if not found)\n",
    "        fruits.discard(\"melon\")   # removes melon (no error if not found)\n",
    "        fruits.pop()              # removes a random item\n",
    "        fruits.clear()            # empties the set\n",
    "        del fruits                # deletes the whole set\n",
    "\n",
    "        # Check Membership\n",
    "        print(\"apple\" in fruits)    # True\n",
    "        print(\"grape\" not in fruits)  # True\n",
    "\n",
    "        # Set operations\n",
    "        A = {\"apple\", \"banana\", \"cherry\"}\n",
    "        B = {\"banana\", \"cherry\", \"date\"}\n",
    "        \n",
    "        A.union(B)          # {'apple', 'banana', 'cherry', 'date'}\n",
    "        A.intersection(B)   # {'banana', 'cherry'}\n",
    "        A.difference(B)     # {'apple'}\n",
    "        A.symmetric_difference(B)  # {'apple', 'date'}\n",
    "\n",
    "        len(fruits)           # number of items\n",
    "        A.issubset(B)         # check if A is inside B\n",
    "        A.issuperset(B)       # check if A contains B\n",
    "        A.isdisjoint(B)       # True if no common items\n",
    "\n",
    "        \n",
    "        \"\"\")\n",
    "        \n",
    "    else:\n",
    "        pass\n",
    "        \n"
   ]
  },
  {
   "cell_type": "code",
   "execution_count": null,
   "id": "70f93d6d-2248-4954-ad3a-cee21e2856fb",
   "metadata": {},
   "outputs": [],
   "source": [
    "selected = choice()\n",
    "explanation(selected)"
   ]
  },
  {
   "cell_type": "markdown",
   "id": "5e281763-f1a4-4190-915d-e620b8577c9b",
   "metadata": {},
   "source": [
    "# Python Operators"
   ]
  },
  {
   "cell_type": "markdown",
   "id": "d80a1443-ebcf-46fc-8ba7-60d239dc321e",
   "metadata": {},
   "source": [
    "Python Operators are symbols used or keywords used to perform operations on variables and values. \n",
    "\n",
    "Operator Types:\n",
    "- Arithmetic\n",
    "- Comparison (Relational)\n",
    "- Assignment\n",
    "- Logical\n",
    "- Membership"
   ]
  },
  {
   "cell_type": "markdown",
   "id": "b069f9cc-410a-4451-bb54-4346937bc997",
   "metadata": {},
   "source": [
    "## Arithmetic Operators\n",
    "Used for `mathematical calculations`: <br>\n",
    "| Operator | Meaning | Example | Result |\n",
    "| -------- | ------- | ------- | ------ |\n",
    "|    `+`   |Addition |   9+7   |  16    |\n",
    "|   `-`    |Subtraction| 9-7   |   2    |\n",
    "|    `*`   | Multiplication| 9*7| 64    |\n",
    "|    `/`   | Division | 10/2    | 5.0   |\n",
    "|    `//`  | Floor Division | 5//2  | 2 |\n",
    "|    `%`   | Modulus (remainder)|5/2| 1 |\n",
    "|   `**`   |Exponential| 5**2  | 25 |"
   ]
  },
  {
   "cell_type": "markdown",
   "id": "61c03075-8a70-4a0a-8200-e19abbe09640",
   "metadata": {
    "execution": {
     "iopub.execute_input": "2025-09-13T00:36:24.402304Z",
     "iopub.status.busy": "2025-09-13T00:36:24.402304Z",
     "iopub.status.idle": "2025-09-13T00:36:24.427913Z",
     "shell.execute_reply": "2025-09-13T00:36:24.426490Z",
     "shell.execute_reply.started": "2025-09-13T00:36:24.402304Z"
    }
   },
   "source": [
    "## Comparison (Relational) Operators\n",
    "Used to compare two values, returns `True or False.`: <br>\n",
    "| Operator | Meaning                 | Example | Result |\n",
    "| -------- | -------                 | ------- | ------ |\n",
    "|    `==`  |Equal to                 |   9==9   |  True   |\n",
    "|   `!=`   |Not Equal to             |   9!=7   |   True    |\n",
    "|    `>`   |Greater Than             |   9>7    |  True    |\n",
    "|    `<`   |Less Than                |   10<2   | False   |\n",
    "|    `>=`  |Greater Than or Equal to |   5>=2   | True |\n",
    "|    `<=`  |Less Than or Equal to    |   5<=2   | False |"
   ]
  },
  {
   "cell_type": "markdown",
   "id": "2a933113-0620-4dc0-a687-6a13facf34a2",
   "metadata": {},
   "source": [
    "## Assignment Operators\n",
    "Used to *assign values* to variables (sometimes with arithmetic).\n",
    "| Operator | Meaning                 | Example | Result |\n",
    "| -------- | -------                 | ------- | ------ |\n",
    "|    `=`   |Assign Value             |   x = 9   |  x = 9   |\n",
    "|   `+=`   |Add and Assign           |   x += 9   |   x = x + 9    |\n",
    "|    `-=`  |Subtract and Assign      |   x -= 9    |  x = x - 9    |\n",
    "|    `*=`  |Multiply and Assign      |   x *= 9   | x = x * 9   |\n",
    "|    `/=`  |Divide and Assign        |   x /= 9   | x = x/9 |\n",
    "|    `//=` |Floor Div Assign         |   x //= 9   | x = x//9 |\n",
    "|    `%=`  |Mod Assign               |   x %= 9   | x = x%9 |\n",
    "|    `**=` |Power Assign             |   x **= 9   | x = x**9 |"
   ]
  },
  {
   "cell_type": "markdown",
   "id": "91e25875-1df7-4700-be29-958decd2be40",
   "metadata": {},
   "source": [
    "## Logical Operators\n",
    "Used to Combine conditional statements\n",
    "| Operator | Meaning                      | Example | Result |\n",
    "| -------- | -------                      | ------- | ------ |\n",
    "|    `and` |True if both are True         |   (5 > 2 and 3 > 1)  |  True   |\n",
    "|   `or`   |True if at least one is True  |   (5 > 2 or 3 < 1)   |   True    |\n",
    "|   `not`  |Reverses the result           |   not(5 > 2)         |  False    |"
   ]
  },
  {
   "cell_type": "markdown",
   "id": "73295da5-73b2-40fb-aaa8-0b0843edb2fd",
   "metadata": {},
   "source": [
    "## Membership Operators\n",
    "Used to check if a value exists in a sequence (string, list, tuple, set, dict)\n",
    "| Operator | Meaning                 | Example | Result |\n",
    "| -------- | -------                 | ------- | ------ |\n",
    "|    `in`  |True if value present    |   \"a\" in \"apple\"   |  True   |\n",
    "| `not in` |True if value absent     |   \"z\" not in \"apple\"   |   True    |"
   ]
  },
  {
   "cell_type": "markdown",
   "id": "e3201e3b-294a-4053-8e54-d19652c1a509",
   "metadata": {},
   "source": [
    "## Identity Operators\n",
    "used to compare objects (not values) to check if they share the same memory location.<br>\n",
    "Assume:<br>\n",
    "x = [1, 2, 3], <br>\n",
    "y = x <br>\n",
    "z = [1, 2, 3]\n",
    "| Operator | Meaning                 | Example | Result |\n",
    "| -------- | -------                 | ------- | ------ |\n",
    "|    `is`  |True if both variables are the same object    |   x is y   |  True   |\n",
    "| `is not` |True if both variables are not the same object     |   x is not z   |   True    |"
   ]
  },
  {
   "cell_type": "code",
   "execution_count": null,
   "id": "cc782c83-b801-4c94-bef9-cfb83cad9918",
   "metadata": {},
   "outputs": [],
   "source": [
    "x = 10\n",
    "y = 5\n",
    "nums = [1, 2, 3, 10]\n",
    "\n",
    "print(x + y)          # 15  (Arithmetic)\n",
    "print(x > y)          # True (Comparison)\n",
    "\n",
    "x += 2\n",
    "print(x)              # 12  (Assignment)\n",
    "print(x > 5 and y < 10)  # True (Logical)\n",
    "print(10 in nums)     # True (Membership)"
   ]
  },
  {
   "cell_type": "markdown",
   "id": "5271cec9-a87b-4144-885d-bd7744dd6a49",
   "metadata": {},
   "source": [
    "# Lets play with Data Types!"
   ]
  },
  {
   "cell_type": "code",
   "execution_count": 16,
   "id": "2707d63d-b0f1-4932-81ba-9767c5f39c77",
   "metadata": {
    "execution": {
     "iopub.execute_input": "2025-09-11T21:57:13.220459Z",
     "iopub.status.busy": "2025-09-11T21:57:13.218732Z",
     "iopub.status.idle": "2025-09-11T21:57:13.232173Z",
     "shell.execute_reply": "2025-09-11T21:57:13.230581Z",
     "shell.execute_reply.started": "2025-09-11T21:57:13.218732Z"
    }
   },
   "outputs": [
    {
     "name": "stdout",
     "output_type": "stream",
     "text": [
      "abcd is a string value!\n",
      "90 is an integer!\n",
      "90.1 is a float!\n",
      "True is a string value!\n",
      "False is a boolean!\n"
     ]
    }
   ],
   "source": [
    "lst = ['abcd', 90, 90.1, 'True', False]\n",
    "\n",
    "for v in lst:\n",
    "    if type(v) == int:\n",
    "        print(v, \"is an integer!\")\n",
    "    elif type(v) == float:\n",
    "        print(v, \"is a float!\")\n",
    "    elif type(v) == complex:\n",
    "        print(v, \"is a complex value!\")\n",
    "    elif type(v) == str:\n",
    "        print(v, \"is a string value!\")\n",
    "    elif type(v) == bool:\n",
    "        print(v, \"is a boolean!\")\n",
    "    else:\n",
    "        print(\"must be a\", type(v))"
   ]
  },
  {
   "cell_type": "code",
   "execution_count": 15,
   "id": "be1c0fd5-e42e-4a67-b175-7c9b47c17b70",
   "metadata": {
    "execution": {
     "iopub.execute_input": "2025-09-11T21:51:06.053546Z",
     "iopub.status.busy": "2025-09-11T21:51:06.053546Z",
     "iopub.status.idle": "2025-09-11T21:51:09.080576Z",
     "shell.execute_reply": "2025-09-11T21:51:09.075812Z",
     "shell.execute_reply.started": "2025-09-11T21:51:06.053546Z"
    }
   },
   "outputs": [
    {
     "name": "stdin",
     "output_type": "stream",
     "text": [
      "What coffee would you like? Tea\n",
      "Iced or Hot? Iced\n"
     ]
    },
    {
     "name": "stdout",
     "output_type": "stream",
     "text": [
      "You have chosen an Iced Cappuccino. That would be 180\n"
     ]
    }
   ],
   "source": [
    "coffee_menu = {'Cappuccino':190, 'Latte': 190, 'Americano':170, 'Tea':170}\n",
    "\n",
    "coff_choice = input('What coffee would you like?')\n",
    "ice_hot = input('Iced or Hot?')\n",
    "\n",
    "if coff_choice in coffee_menu:\n",
    "    price = coffee_menu[coff_choice]\n",
    "    if ice_hot == 'Iced':\n",
    "        price += 10\n",
    "        print('You have chosen an Iced',coffee + \".\", \"That would be\", price)\n",
    "    else:\n",
    "        print('You have chosen a Hot',coffee + \".\", \"That would be\", price)\n",
    "else:\n",
    "    print('Sorry, thats not Available')"
   ]
  }
 ],
 "metadata": {
  "kernelspec": {
   "display_name": "Python 3 (ipykernel)",
   "language": "python",
   "name": "python3"
  },
  "language_info": {
   "codemirror_mode": {
    "name": "ipython",
    "version": 3
   },
   "file_extension": ".py",
   "mimetype": "text/x-python",
   "name": "python",
   "nbconvert_exporter": "python",
   "pygments_lexer": "ipython3",
   "version": "3.12.7"
  }
 },
 "nbformat": 4,
 "nbformat_minor": 5
}
