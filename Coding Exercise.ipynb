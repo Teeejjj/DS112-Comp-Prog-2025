{
 "cells": [
  {
   "cell_type": "markdown",
   "id": "13a8a74e-783a-4a89-b708-0761de51ec70",
   "metadata": {},
   "source": [
    "# Coding Examples"
   ]
  },
  {
   "cell_type": "markdown",
   "id": "853065f9-22fa-4d21-848e-2ce95aa1c9e9",
   "metadata": {},
   "source": [
    "## Vowel Check!"
   ]
  },
  {
   "cell_type": "code",
   "execution_count": 2,
   "id": "9b8d1709-f4b0-4cf6-84b8-6c3aff9a8122",
   "metadata": {
    "execution": {
     "iopub.execute_input": "2025-09-13T02:39:36.611446Z",
     "iopub.status.busy": "2025-09-13T02:39:36.611446Z",
     "iopub.status.idle": "2025-09-13T02:39:50.627279Z",
     "shell.execute_reply": "2025-09-13T02:39:50.624195Z",
     "shell.execute_reply.started": "2025-09-13T02:39:36.611446Z"
    }
   },
   "outputs": [
    {
     "name": "stdin",
     "output_type": "stream",
     "text": [
      " rhythm\n"
     ]
    },
    {
     "data": {
      "text/plain": [
       "'No vowel exists.'"
      ]
     },
     "execution_count": 2,
     "metadata": {},
     "output_type": "execute_result"
    }
   ],
   "source": [
    "def vowel_check(word):\n",
    "    vowels = ['a', 'e', 'i', 'o', 'u']\n",
    "    word = word.lower()\n",
    "    for v in vowels:\n",
    "        if v in word:\n",
    "            return \"Vowel exist in word!\"\n",
    "            # return\n",
    "    return \"No vowel exists.\"\n",
    "\n",
    "vowel_check(input(str('')))"
   ]
  },
  {
   "cell_type": "code",
   "execution_count": 4,
   "id": "99ca4226-3c63-4bb1-9cdf-2870c7fe9a87",
   "metadata": {
    "execution": {
     "iopub.execute_input": "2025-09-13T02:43:59.276549Z",
     "iopub.status.busy": "2025-09-13T02:43:59.274070Z",
     "iopub.status.idle": "2025-09-13T02:43:59.299914Z",
     "shell.execute_reply": "2025-09-13T02:43:59.296369Z",
     "shell.execute_reply.started": "2025-09-13T02:43:59.276549Z"
    }
   },
   "outputs": [
    {
     "name": "stdout",
     "output_type": "stream",
     "text": [
      "1. a\n",
      "2. e\n",
      "3. i\n",
      "4. o\n",
      "5. u\n"
     ]
    }
   ],
   "source": [
    "def get_all_vowels(word):\n",
    "    vowels = ['a', 'e', 'i', 'o', 'u']\n",
    "    curr_v = []\n",
    "    for v in vowels:\n",
    "        if v in list(word):\n",
    "            curr_v.append(v)\n",
    "            \n",
    "    if not curr_v:\n",
    "        return f'No Vowels in {word}'\n",
    "    else:\n",
    "        for num, letter in enumerate(curr_v, start=1):\n",
    "            print(f'{num}. {letter}')\n",
    "    \n",
    "\n",
    "get_all_vowels('supercalifragilisticexpialidocious')"
   ]
  },
  {
   "cell_type": "markdown",
   "id": "e96e6fca-dfbc-42e2-b126-c712b497bf3e",
   "metadata": {},
   "source": [
    "## What about your Flowcharts?"
   ]
  },
  {
   "cell_type": "markdown",
   "id": "f0e08a07-7207-490f-a408-32b12c566908",
   "metadata": {},
   "source": [
    "### Getting Coffee (a guided exercise)"
   ]
  },
  {
   "cell_type": "markdown",
   "id": "ad64bf20-fcb0-4c76-860d-9916ed36492f",
   "metadata": {},
   "source": [
    "Let’s look at the 3 requirements for writing an algorithm for this task: <br>\n",
    "- Input – Ask for coffee\n",
    "- Tasks to be performed – Choose which Coffee you want to order\n",
    "- Output expected – Your Coffee"
   ]
  },
  {
   "cell_type": "markdown",
   "id": "d9971d4e-b3bd-4d6e-b8e1-40740189ee64",
   "metadata": {},
   "source": [
    "+ **Step 1**: Go to Coffee Shop\n",
    "+ **Step 2**: Choose desired Coffee\n",
    "+ **Step 3**: If desired Coffee is Available, Order Coffee.\n",
    "+ **Step 4**: If not, Choose different drink.\n",
    "+ **Step 5**: Pay for Coffee\n",
    "+ **Step 6**: Pick up Coffee"
   ]
  },
  {
   "cell_type": "markdown",
   "id": "bdd265ad-f1f9-4ccc-90b0-036586322621",
   "metadata": {},
   "source": [
    "<!-- ```mermaid\n",
    "flowchart LR\n",
    "A[/Data Collection/]~~~~~B[/Data Preprocessing/]\n",
    "B~~~~C[/Feature Engineering/]\n",
    "C~~~~D[/Text Mining/]\n",
    "``` -->\n",
    "\n",
    "```mermaid\n",
    "flowchart LR\n",
    "\n",
    "A([START]) ---> A1[Go to Coffee Shop]\n",
    "A1 ---> B[/Choose what Coffee to get/]\n",
    "B ---> C{Is chosen coffee available?}\n",
    "C -- True --> D[/Order Coffee/]\n",
    "C -- False --> D1[/Choose Different Drink/]\n",
    "D1 ---> B\n",
    "D ---> E[Pay for Coffee]\n",
    "E ---> F([END])\n",
    "\n",
    "```"
   ]
  },
  {
   "cell_type": "code",
   "execution_count": 19,
   "id": "187bdd5a-d9af-4961-b447-501cf438a981",
   "metadata": {
    "execution": {
     "iopub.execute_input": "2025-09-13T03:55:59.953707Z",
     "iopub.status.busy": "2025-09-13T03:55:59.952192Z",
     "iopub.status.idle": "2025-09-13T03:56:11.695895Z",
     "shell.execute_reply": "2025-09-13T03:56:11.695895Z",
     "shell.execute_reply.started": "2025-09-13T03:55:59.953707Z"
    }
   },
   "outputs": [
    {
     "name": "stdin",
     "output_type": "stream",
     "text": [
      "What coffe would you like:  Sikwate \n",
      "Iced or Hot?  Hot\n"
     ]
    },
    {
     "name": "stdout",
     "output_type": "stream",
     "text": [
      "You ordered Hot Sikwate. Price would be 10\n",
      "Thank you, come again hehe\n"
     ]
    }
   ],
   "source": [
    "coffee_menu = {'Latte':75, 'Machiatto':89, 'Americano': 45, 'Matcha': 95, 'Sikwate': 10}\n",
    "\n",
    "while True:\n",
    "    choice = input('What coffe would you like: ').strip().title()\n",
    "    iced_hot = input('Iced or Hot? ').strip().title()\n",
    "\n",
    "    if choice in coffee_menu:\n",
    "        price = coffee_menu[choice]\n",
    "        if iced_hot == 'Iced':\n",
    "            price += 10\n",
    "            print('You ordered Iced', choice + '.', \"Price would be\", price)\n",
    "            break\n",
    "        else:\n",
    "            print('You ordered Hot', choice + '.', \"Price would be\", price)\n",
    "            break\n",
    "    else:\n",
    "        print('Coffee Not Available. So sorry hehe.')\n",
    "\n",
    "print('Thank you, come again hehe')"
   ]
  },
  {
   "cell_type": "code",
   "execution_count": null,
   "id": "e4d4773d-5d4d-4bc6-9f61-f256fbffd035",
   "metadata": {},
   "outputs": [],
   "source": []
  }
 ],
 "metadata": {
  "kernelspec": {
   "display_name": "Python 3 (ipykernel)",
   "language": "python",
   "name": "python3"
  },
  "language_info": {
   "codemirror_mode": {
    "name": "ipython",
    "version": 3
   },
   "file_extension": ".py",
   "mimetype": "text/x-python",
   "name": "python",
   "nbconvert_exporter": "python",
   "pygments_lexer": "ipython3",
   "version": "3.12.7"
  }
 },
 "nbformat": 4,
 "nbformat_minor": 5
}
