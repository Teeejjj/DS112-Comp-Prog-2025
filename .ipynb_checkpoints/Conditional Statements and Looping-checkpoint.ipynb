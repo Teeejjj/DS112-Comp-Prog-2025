{
 "cells": [
  {
   "cell_type": "markdown",
   "id": "2d26895e-c087-481f-9586-09ee07de4a17",
   "metadata": {},
   "source": [
    "# Conditional Statements and Looping"
   ]
  },
  {
   "cell_type": "markdown",
   "id": "616a6a9e-a53b-42b8-9bc4-6df89d4986cd",
   "metadata": {},
   "source": [
    "<font size = '3px'><b> Conditional Statements </b></font> or ***Decision-Making Statements*** are  used in the anticipation of conditions occurring during the execution of a program and what specified actions should be taken according to the conditions. Decision structures evaluate multiple expressions, which produce `True` or `False` as the outcome. <u><b>You need to determine which action to take and which statements to execute if the outcome is TRUE or FALSE otherwise.</u></b>"
   ]
  },
  {
   "cell_type": "code",
   "execution_count": 14,
   "id": "6114ede4-15b4-4bc7-bc73-5a9a2de02a1a",
   "metadata": {
    "execution": {
     "iopub.execute_input": "2025-09-18T16:04:29.760033Z",
     "iopub.status.busy": "2025-09-18T16:04:29.759485Z",
     "iopub.status.idle": "2025-09-18T16:04:29.770632Z",
     "shell.execute_reply": "2025-09-18T16:04:29.768594Z",
     "shell.execute_reply.started": "2025-09-18T16:04:29.760033Z"
    }
   },
   "outputs": [
    {
     "name": "stdout",
     "output_type": "stream",
     "text": [
      "True\n"
     ]
    }
   ],
   "source": [
    "## If Condition ##\n",
    "x = 10\n",
    "if x == 10:\n",
    "    print(True)"
   ]
  },
  {
   "cell_type": "code",
   "execution_count": 15,
   "id": "d1cee906-534d-4db9-a525-67fa0502ebea",
   "metadata": {
    "execution": {
     "iopub.execute_input": "2025-09-18T16:04:30.351193Z",
     "iopub.status.busy": "2025-09-18T16:04:30.351193Z",
     "iopub.status.idle": "2025-09-18T16:04:30.361625Z",
     "shell.execute_reply": "2025-09-18T16:04:30.359524Z",
     "shell.execute_reply.started": "2025-09-18T16:04:30.351193Z"
    }
   },
   "outputs": [
    {
     "name": "stdout",
     "output_type": "stream",
     "text": [
      "True\n"
     ]
    }
   ],
   "source": [
    "## if-Else Condition ##\n",
    "x = 10\n",
    "if x == 10:\n",
    "    print(True)\n",
    "else:\n",
    "    print(False)"
   ]
  },
  {
   "cell_type": "code",
   "execution_count": 16,
   "id": "cf0dee38-79e7-4633-9658-787650c4d00d",
   "metadata": {
    "execution": {
     "iopub.execute_input": "2025-09-18T16:04:30.923599Z",
     "iopub.status.busy": "2025-09-18T16:04:30.923599Z",
     "iopub.status.idle": "2025-09-18T16:04:30.934877Z",
     "shell.execute_reply": "2025-09-18T16:04:30.932834Z",
     "shell.execute_reply.started": "2025-09-18T16:04:30.923599Z"
    }
   },
   "outputs": [
    {
     "name": "stdout",
     "output_type": "stream",
     "text": [
      "a and b are equal\n"
     ]
    }
   ],
   "source": [
    "## If-Elif-Else Condition ##\n",
    "\"\"\" \n",
    "    The elif keyword is Python's way of saying \n",
    "    \"if the previous conditions were not true, then try this condition\". \n",
    "\"\"\"\n",
    "\n",
    "a = 48\n",
    "b = 48\n",
    "if b > a:\n",
    "  print(\"b is greater than a\")\n",
    "elif a == b:\n",
    "  print(\"a and b are equal\")\n",
    "else:\n",
    "  print(\"a is greater than b\")"
   ]
  },
  {
   "cell_type": "code",
   "execution_count": 17,
   "id": "9e59a559-59cd-4250-93e2-caff5c00dfb6",
   "metadata": {
    "execution": {
     "iopub.execute_input": "2025-09-18T16:04:33.078457Z",
     "iopub.status.busy": "2025-09-18T16:04:33.078457Z",
     "iopub.status.idle": "2025-09-18T16:04:33.089949Z",
     "shell.execute_reply": "2025-09-18T16:04:33.087892Z",
     "shell.execute_reply.started": "2025-09-18T16:04:33.078457Z"
    }
   },
   "outputs": [
    {
     "name": "stdout",
     "output_type": "stream",
     "text": [
      "There are Snacks in my Grocery List!\n",
      "I do need Tissues!\n"
     ]
    }
   ],
   "source": [
    "\"\"\"What if using in, and, or?\"\"\"\n",
    "\n",
    "grocery_list = ['bread', 'tissues', 'chips', 'sugar']\n",
    "\n",
    "if 'bread' in grocery_list and 'chips' in grocery_list:\n",
    "    print('There are Snacks in my Grocery List!')\n",
    "if 'tissues' in grocery_list:\n",
    "    print('I do need Tissues!')\n"
   ]
  },
  {
   "cell_type": "code",
   "execution_count": 18,
   "id": "fdd55315-3c0f-4109-8e8b-ef9303d8d783",
   "metadata": {
    "execution": {
     "iopub.execute_input": "2025-09-18T16:04:33.573616Z",
     "iopub.status.busy": "2025-09-18T16:04:33.572607Z",
     "iopub.status.idle": "2025-09-18T16:04:43.195813Z",
     "shell.execute_reply": "2025-09-18T16:04:43.193396Z",
     "shell.execute_reply.started": "2025-09-18T16:04:33.573616Z"
    }
   },
   "outputs": [
    {
     "name": "stdin",
     "output_type": "stream",
     "text": [
      "what to Drink?  no\n",
      "What to eat?  fries\n"
     ]
    },
    {
     "name": "stdout",
     "output_type": "stream",
     "text": [
      "You bought fries\n"
     ]
    }
   ],
   "source": [
    "drinks = ['iced tea', 'water', 'juice', 'lemonade']\n",
    "snacks = ['chips', 'fries', 'burger', 'cupcake']\n",
    "\n",
    "buy_drink = input('what to Drink? ')\n",
    "buy_snack = input('What to eat? ')\n",
    "\n",
    "if buy_drink in drinks:\n",
    "    print(f'You bought {buy_drink}')\n",
    "    if buy_snack in snacks:\n",
    "        print(f'You bought {buy_snack}')\n",
    "    elif buy_snack == 'no' or buy_snack == 'no thanks':\n",
    "        pass\n",
    "    else:\n",
    "        print('Sorry, thats not available!')\n",
    "        \n",
    "elif buy_drink == 'no' or buy_drink == 'no thanks':\n",
    "    if buy_snack in snacks:\n",
    "        print(f'You bought {buy_snack}')\n",
    "    elif buy_snack == 'no' or buy_snack == 'no thanks':\n",
    "        pass\n",
    "    else:\n",
    "        print('Sorry, thats not available!')\n",
    "else:\n",
    "    print('Thats unavailable!')"
   ]
  },
  {
   "cell_type": "markdown",
   "id": "6c2b0eaa-6b0e-4c68-825c-0caa9246b5ef",
   "metadata": {},
   "source": [
    "A <font size = '3px'><b>loop</b></font> statement allows us to execute a statement or group of statements multiple times. "
   ]
  },
  {
   "cell_type": "markdown",
   "id": "19ed0bee-ef42-45e3-bef9-44733b8f6bb8",
   "metadata": {},
   "source": [
    "| Loop Types | Description |\n",
    "| ---------- | ------------|\n",
    "|`while loop`  | Repeat a statement or group of statements while a given condition is TRUE. It tests the condition  before executing the loop body |\n",
    "|`for loop`    | Executes a sequence of statements multiple times and abbreviates the code that manages the loop variable. |\n",
    "|`nested loops` | You can use one or more loops inside any another while or for loop. |"
   ]
  },
  {
   "cell_type": "code",
   "execution_count": 6,
   "id": "093e4b28-fae2-461a-913a-efc6bbe3a709",
   "metadata": {
    "execution": {
     "iopub.execute_input": "2025-09-18T14:50:39.340349Z",
     "iopub.status.busy": "2025-09-18T14:50:39.338286Z",
     "iopub.status.idle": "2025-09-18T14:50:39.356748Z",
     "shell.execute_reply": "2025-09-18T14:50:39.355736Z",
     "shell.execute_reply.started": "2025-09-18T14:50:39.340349Z"
    },
    "scrolled": true
   },
   "outputs": [
    {
     "name": "stdout",
     "output_type": "stream",
     "text": [
      "Hello World\n",
      "Hello World\n",
      "Hello World\n",
      "Hello World\n",
      "Hello World\n",
      "Hello World\n",
      "Hello World\n",
      "Hello World\n",
      "Hello World\n",
      "End\n"
     ]
    }
   ],
   "source": [
    "\"\"\" While Loops \"\"\"\n",
    "count = 0 \n",
    "\n",
    "while (count < 9):\n",
    "    print('Hello World')\n",
    "    count += 1\n",
    "print('End')"
   ]
  },
  {
   "cell_type": "markdown",
   "id": "ae265600-a141-4efa-9744-750e454a3c67",
   "metadata": {},
   "source": [
    "> **Be careful with while loops; they may cause an infinite loop without a proper exit condition**"
   ]
  },
  {
   "cell_type": "code",
   "execution_count": 5,
   "id": "81894823-597f-477a-a302-8a089390577b",
   "metadata": {
    "execution": {
     "iopub.execute_input": "2025-09-18T14:31:52.038596Z",
     "iopub.status.busy": "2025-09-18T14:31:52.037132Z",
     "iopub.status.idle": "2025-09-18T14:31:52.044120Z",
     "shell.execute_reply": "2025-09-18T14:31:52.043120Z",
     "shell.execute_reply.started": "2025-09-18T14:31:52.038596Z"
    }
   },
   "outputs": [
    {
     "name": "stdout",
     "output_type": "stream",
     "text": [
      "0  is  less than 9\n",
      "1  is  less than 9\n",
      "2  is  less than 9\n",
      "3  is  less than 9\n",
      "4  is  less than 9\n",
      "5  is  less than 9\n",
      "6  is  less than 9\n",
      "7  is  less than 9\n",
      "8  is  less than 9\n",
      "9  is not less than 9\n"
     ]
    }
   ],
   "source": [
    "count = 0\n",
    "while count < 9:\n",
    "    print (count, \" is  less than 9\") \n",
    "    count = count + 1 \n",
    "else: \n",
    "   print (count, \" is not less than 9\")"
   ]
  },
  {
   "cell_type": "code",
   "execution_count": 7,
   "id": "278b0e00-bb63-4ee4-85a5-8d06c5af8b45",
   "metadata": {
    "execution": {
     "iopub.execute_input": "2025-09-18T14:51:27.770345Z",
     "iopub.status.busy": "2025-09-18T14:51:27.769348Z",
     "iopub.status.idle": "2025-09-18T14:51:27.777894Z",
     "shell.execute_reply": "2025-09-18T14:51:27.776885Z",
     "shell.execute_reply.started": "2025-09-18T14:51:27.770345Z"
    }
   },
   "outputs": [
    {
     "name": "stdout",
     "output_type": "stream",
     "text": [
      "1\n",
      "2\n",
      "3\n",
      "4\n"
     ]
    }
   ],
   "source": [
    "\"\"\" For Loops \"\"\"\n",
    "\n",
    "for num in range(1, 5):\n",
    "    print(num)"
   ]
  },
  {
   "cell_type": "code",
   "execution_count": 13,
   "id": "74e89e98-c8be-4a4c-bd10-c2120dfbb2cf",
   "metadata": {
    "execution": {
     "iopub.execute_input": "2025-09-18T14:53:45.129658Z",
     "iopub.status.busy": "2025-09-18T14:53:45.129658Z",
     "iopub.status.idle": "2025-09-18T14:53:45.135278Z",
     "shell.execute_reply": "2025-09-18T14:53:45.134730Z",
     "shell.execute_reply.started": "2025-09-18T14:53:45.129658Z"
    }
   },
   "outputs": [
    {
     "name": "stdout",
     "output_type": "stream",
     "text": [
      "1\n",
      "22\n",
      "333\n",
      "4444\n",
      "55555\n",
      "666666\n",
      "7777777\n",
      "88888888\n",
      "999999999\n"
     ]
    }
   ],
   "source": [
    "for num in range(1, 9+1):\n",
    "    print(str(num)*num)"
   ]
  },
  {
   "cell_type": "code",
   "execution_count": 17,
   "id": "fe5e73d6-9d2b-4dfb-aa15-eb6c0d05f1bb",
   "metadata": {
    "execution": {
     "iopub.execute_input": "2025-09-18T14:56:07.199361Z",
     "iopub.status.busy": "2025-09-18T14:56:07.198362Z",
     "iopub.status.idle": "2025-09-18T14:56:07.204865Z",
     "shell.execute_reply": "2025-09-18T14:56:07.203854Z",
     "shell.execute_reply.started": "2025-09-18T14:56:07.199361Z"
    }
   },
   "outputs": [
    {
     "name": "stdout",
     "output_type": "stream",
     "text": [
      "I\n",
      "love\n",
      "python\n"
     ]
    }
   ],
   "source": [
    "sentence = 'I love python'\n",
    "\n",
    "for x in sentence.split():\n",
    "    print(x)"
   ]
  },
  {
   "cell_type": "code",
   "execution_count": 12,
   "id": "e36f6fec-49d1-4306-af4d-811772e53f71",
   "metadata": {
    "execution": {
     "iopub.execute_input": "2025-09-18T15:56:21.816340Z",
     "iopub.status.busy": "2025-09-18T15:56:21.815343Z",
     "iopub.status.idle": "2025-09-18T15:56:21.823089Z",
     "shell.execute_reply": "2025-09-18T15:56:21.823089Z",
     "shell.execute_reply.started": "2025-09-18T15:56:21.816340Z"
    },
    "scrolled": true
   },
   "outputs": [
    {
     "name": "stdout",
     "output_type": "stream",
     "text": [
      "1 2 3 4 5 6 7 8 9 10 \n",
      "2 4 6 8 10 12 14 16 18 20 \n",
      "3 6 9 12 15 18 21 24 27 30 \n",
      "4 8 12 16 20 24 28 32 36 40 \n",
      "5 10 15 20 25 30 35 40 45 50 \n",
      "6 12 18 24 30 36 42 48 54 60 \n",
      "7 14 21 28 35 42 49 56 63 70 \n",
      "8 16 24 32 40 48 56 64 72 80 \n",
      "9 18 27 36 45 54 63 72 81 90 \n",
      "10 20 30 40 50 60 70 80 90 100 \n"
     ]
    }
   ],
   "source": [
    "## Nested Loops ## \n",
    "for i in range(1,11): \n",
    "    for j in range(1,11): \n",
    "        k=i*j \n",
    "        print(k, end=' ') \n",
    "    print()"
   ]
  },
  {
   "cell_type": "code",
   "execution_count": 13,
   "id": "f517e8e3-043a-4f99-a2ef-e2fed7018f8c",
   "metadata": {
    "execution": {
     "iopub.execute_input": "2025-09-18T15:56:24.887678Z",
     "iopub.status.busy": "2025-09-18T15:56:24.887678Z",
     "iopub.status.idle": "2025-09-18T15:56:40.905775Z",
     "shell.execute_reply": "2025-09-18T15:56:40.904748Z",
     "shell.execute_reply.started": "2025-09-18T15:56:24.887678Z"
    }
   },
   "outputs": [
    {
     "name": "stdin",
     "output_type": "stream",
     "text": [
      "Enter username:  user3\n",
      "Enter password:  13c\n"
     ]
    },
    {
     "name": "stdout",
     "output_type": "stream",
     "text": [
      "Incorrect password. 2 attempts remaining for this user.\n"
     ]
    },
    {
     "name": "stdin",
     "output_type": "stream",
     "text": [
      "Enter password:  1b3\n"
     ]
    },
    {
     "name": "stdout",
     "output_type": "stream",
     "text": [
      "Login successful! Welcome user3.\n"
     ]
    }
   ],
   "source": [
    "user_pass = {'user1': '123', 'user2': 'abc', 'user3': '1b3'}\n",
    "max_attempts = 3\n",
    "logged_in = False\n",
    "\n",
    "for attempt in range(1, max_attempts + 1):    \n",
    "    ## First loop: Get and validate username ##\n",
    "    while True:\n",
    "        username = input(\"Enter username: \")\n",
    "        if username in user_pass:\n",
    "            break\n",
    "        else:\n",
    "            print(\"Username not found. Please try again.\")\n",
    "    \n",
    "    ## Second loop: Get and validate password (up to 3 tries for this specific user) ##\n",
    "    for password_attempt in range(1, 4):\n",
    "        password = input(\"Enter password: \")\n",
    "        if user_pass[username] == password:\n",
    "            print(f\"Login successful! Welcome {username}.\")\n",
    "            logged_in = True\n",
    "            break\n",
    "        else:\n",
    "            remaining = 3 - password_attempt\n",
    "            if remaining > 0:\n",
    "                print(f\"Incorrect password. {remaining} attempts remaining for this user.\")\n",
    "            else:\n",
    "                print(\"Too many failed password attempts for this user.\")\n",
    "                break  # Break out of password loop\n",
    "    if logged_in:\n",
    "        break"
   ]
  },
  {
   "cell_type": "code",
   "execution_count": null,
   "id": "17b6fe25-d001-4dd7-b863-da7fd85fcd90",
   "metadata": {},
   "outputs": [],
   "source": []
  },
  {
   "cell_type": "code",
   "execution_count": null,
   "id": "2ef518f3-1e10-4dee-bbbb-9e872d52bf2b",
   "metadata": {},
   "outputs": [],
   "source": []
  }
 ],
 "metadata": {
  "kernelspec": {
   "display_name": "Python 3 (ipykernel)",
   "language": "python",
   "name": "python3"
  },
  "language_info": {
   "codemirror_mode": {
    "name": "ipython",
    "version": 3
   },
   "file_extension": ".py",
   "mimetype": "text/x-python",
   "name": "python",
   "nbconvert_exporter": "python",
   "pygments_lexer": "ipython3",
   "version": "3.12.7"
  }
 },
 "nbformat": 4,
 "nbformat_minor": 5
}
