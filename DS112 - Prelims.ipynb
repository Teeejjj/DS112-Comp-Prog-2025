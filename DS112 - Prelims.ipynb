{
 "cells": [
  {
   "cell_type": "markdown",
   "id": "bf53d7cc-d203-4d18-ae6a-a87b9f42dc62",
   "metadata": {},
   "source": [
    "**Name**:\n",
    "\n",
    "**Section**:\n",
    "\n",
    "**Date**:"
   ]
  },
  {
   "cell_type": "markdown",
   "id": "d41b7abd-c369-4c5e-a213-46b62ced114a",
   "metadata": {},
   "source": [
    "Before Coding, Create an Anaconda Environment<br>\n",
    "Create an Algo, then a Flowchart of a thing. Code the Flowchart.\n",
    "\n",
    "Algo-Flowchart Exercise: <br>\n",
    "HR Application  - Getting a Job\n",
    "\n",
    "Doctors Appointment - Getting a check up\n",
    "\n",
    "(usual IT Algo-Flowchart)\n",
    "\n",
    "Coding a Flowchart:<br>\n",
    "HR Application - You as the HR, you have 5 Applicants. Choose among the 5 the best applicant. Incorporate Data Types, Lists, Tuples, Dictionary, Operators, Conditional Statements and Looping.\n",
    "\n",
    "Coding Proper:<br>\n",
    "Upgraded Coffee Shop - Include Sizing, how many will you order. Small, Medium +20, Large +30."
   ]
  },
  {
   "cell_type": "markdown",
   "id": "06a9c7e6-c1d2-412f-9c4b-b7d10491e3a6",
   "metadata": {},
   "source": [
    "# Creating your Anaconda Environment\n",
    "*****(+5pts)*****"
   ]
  },
  {
   "cell_type": "markdown",
   "id": "3a988dcd-3f0d-409c-b4c1-4cba1957c463",
   "metadata": {},
   "source": [
    "# Practical Test\n",
    "## ***Algorithm and Flowchart*** (Conceptual Thinking)"
   ]
  },
  {
   "cell_type": "markdown",
   "id": "d3dc638e-8dfe-4fcf-835b-81311f3aa9d8",
   "metadata": {},
   "source": [
    "****HR Application - Getting a Job; Selecting the Best Candidate****"
   ]
  },
  {
   "cell_type": "markdown",
   "id": "06ba854e-782c-4f31-92eb-9c01284f4219",
   "metadata": {},
   "source": [
    "Collect all Application from 5 candidates. After reviewing their qualifications, compare the applicants and select who is the best out of them all. Notify then the chosen candidate."
   ]
  },
  {
   "cell_type": "markdown",
   "id": "7e8ca03e-b733-4656-87cc-51b751651fe8",
   "metadata": {},
   "source": [
    "**Algorithm**\n",
    "1. ***Start***\n",
    "2.\n",
    "3.\n",
    "4.\n",
    "5.\n",
    "6.\n",
    "7. ***End***"
   ]
  },
  {
   "cell_type": "markdown",
   "id": "bb30fbda-4036-4919-bec9-6e491da3fa27",
   "metadata": {},
   "source": [
    "```mermaid\n",
    "flowchart LR\n",
    "\n",
    "A([START]) ---> B[/Input Applicants/] \n",
    "\n",
    "```"
   ]
  },
  {
   "cell_type": "markdown",
   "id": "905d249d-4257-46b7-b6f0-f75993e7f4df",
   "metadata": {},
   "source": [
    "## Coding the Flowchart\n",
    "You are the HR. There are 5 applicants. Choose the best one based on criteria.<br>\n",
    "Use ***Data Types, Lists, Tuples, Dictionaries, Operators, If-Else, and Looping.***"
   ]
  },
  {
   "cell_type": "code",
   "execution_count": null,
   "id": "0e442b89-6a6a-40d5-b5a4-0e24fc9ccaf5",
   "metadata": {},
   "outputs": [],
   "source": [
    "applicants = [\n",
    "    ('Alice', 5, ['Python', 'Data Analysis'], 85),\n",
    "    ('Bob', 7, ['Java', 'Web Development'], 90),\n",
    "    ('Charlie', 3, ['C++', 'AI'], 80),\n",
    "    ('David', 8, ['JavaScript', 'React'], 88),\n",
    "    ('Eve', 6, ['Ruby', 'Web Development'], 92)\n",
    "]\n",
    "\n",
    "best_applicant = {}"
   ]
  },
  {
   "cell_type": "markdown",
   "id": "654e463a-4931-4999-8f2a-7912bd122c0a",
   "metadata": {},
   "source": [
    "> To print: Who the Best Applicant is, their experience, their skills, and how much their rating is"
   ]
  },
  {
   "cell_type": "markdown",
   "id": "c8a3c147-eb6c-454b-9834-c6e0c39f4c66",
   "metadata": {},
   "source": [
    "## Create your own Coffee Shop\n",
    "Create 10 Drinks. Give me the choice on what to order, what cup size to get, and if Iced or Hot. <br>\n",
    "Having a Medium drink adds the price by 20, wherease the Large sized drink adds the price by <br>\n",
    "40. Also, I may want to buy more than 1 drink. "
   ]
  },
  {
   "cell_type": "code",
   "execution_count": null,
   "id": "1e74532c-697f-4871-b87d-7161ceaa411d",
   "metadata": {},
   "outputs": [],
   "source": []
  },
  {
   "cell_type": "code",
   "execution_count": null,
   "id": "8d323933-4de1-44d4-93de-6b1e818aa613",
   "metadata": {},
   "outputs": [],
   "source": []
  }
 ],
 "metadata": {
  "kernelspec": {
   "display_name": "Python 3 (ipykernel)",
   "language": "python",
   "name": "python3"
  },
  "language_info": {
   "codemirror_mode": {
    "name": "ipython",
    "version": 3
   },
   "file_extension": ".py",
   "mimetype": "text/x-python",
   "name": "python",
   "nbconvert_exporter": "python",
   "pygments_lexer": "ipython3",
   "version": "3.12.3"
  }
 },
 "nbformat": 4,
 "nbformat_minor": 5
}
