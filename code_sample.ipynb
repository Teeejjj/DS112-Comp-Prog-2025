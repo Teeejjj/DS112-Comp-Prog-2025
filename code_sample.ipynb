{
 "cells": [
  {
   "cell_type": "code",
   "execution_count": 1,
   "id": "ddf72d2b-4b2f-4f82-a895-ebba2b431ad9",
   "metadata": {
    "execution": {
     "iopub.execute_input": "2025-09-03T13:12:15.782532Z",
     "iopub.status.busy": "2025-09-03T13:12:15.782532Z",
     "iopub.status.idle": "2025-09-03T13:12:15.788023Z",
     "shell.execute_reply": "2025-09-03T13:12:15.787517Z",
     "shell.execute_reply.started": "2025-09-03T13:12:15.782532Z"
    }
   },
   "outputs": [],
   "source": [
    "# import pandas as pd\n",
    "# import numpy as np\n",
    "from IPython.display import clear_output"
   ]
  },
  {
   "cell_type": "code",
   "execution_count": 2,
   "id": "1239c68f-72b5-4374-a3b3-96dfd8c92ab2",
   "metadata": {
    "execution": {
     "iopub.execute_input": "2025-09-03T13:12:17.641352Z",
     "iopub.status.busy": "2025-09-03T13:12:17.640846Z",
     "iopub.status.idle": "2025-09-03T13:12:17.645887Z",
     "shell.execute_reply": "2025-09-03T13:12:17.645887Z",
     "shell.execute_reply.started": "2025-09-03T13:12:17.641352Z"
    }
   },
   "outputs": [],
   "source": [
    "def vowel_check(word):\n",
    "    vowels = ['a', 'e', 'i', 'o', 'u']\n",
    "    word = word.lower()\n",
    "    for v in vowels:\n",
    "        if v in word:\n",
    "            return \"Vowel exist in word!\"\n",
    "            # return\n",
    "    return \"No vowel exists.\""
   ]
  },
  {
   "cell_type": "code",
   "execution_count": 3,
   "id": "13a6ed68-4a12-4134-992c-42d082240aeb",
   "metadata": {
    "execution": {
     "iopub.execute_input": "2025-09-03T13:12:18.512835Z",
     "iopub.status.busy": "2025-09-03T13:12:18.512835Z",
     "iopub.status.idle": "2025-09-03T13:12:22.014255Z",
     "shell.execute_reply": "2025-09-03T13:12:22.013142Z",
     "shell.execute_reply.started": "2025-09-03T13:12:18.512835Z"
    }
   },
   "outputs": [
    {
     "name": "stdin",
     "output_type": "stream",
     "text": [
      " hello\n"
     ]
    },
    {
     "data": {
      "text/plain": [
       "'Vowel exist in word!'"
      ]
     },
     "execution_count": 3,
     "metadata": {},
     "output_type": "execute_result"
    }
   ],
   "source": [
    "vowel_check(input(str('')))"
   ]
  },
  {
   "cell_type": "code",
   "execution_count": 7,
   "id": "b4f80cab-93f7-4965-9cba-9c66518e872c",
   "metadata": {
    "execution": {
     "iopub.execute_input": "2025-09-01T05:52:15.136243Z",
     "iopub.status.busy": "2025-09-01T05:52:15.136243Z",
     "iopub.status.idle": "2025-09-01T05:52:15.139462Z",
     "shell.execute_reply": "2025-09-01T05:52:15.139462Z",
     "shell.execute_reply.started": "2025-09-01T05:52:15.136243Z"
    }
   },
   "outputs": [
    {
     "name": "stdout",
     "output_type": "stream",
     "text": [
      "1. e\n",
      "2. i\n",
      "3. o\n"
     ]
    }
   ],
   "source": [
    "def get_all_vowels(word):\n",
    "    vowels = ['a', 'e', 'i', 'o', 'u']\n",
    "    curr_v = []\n",
    "    for v in vowels:\n",
    "        if v in list(word):\n",
    "            curr_v.append(v)\n",
    "            \n",
    "    if not curr_v:\n",
    "        return f'No Vowels in {word}'\n",
    "    else:\n",
    "        for num, letter in enumerate(curr_v, start=1):\n",
    "            print(f'{num}. {letter}')\n",
    "    \n",
    "\n",
    "get_all_vowels('pivoteering')"
   ]
  },
  {
   "cell_type": "code",
   "execution_count": null,
   "id": "777e9351-f902-4d70-a9c0-eefe197712f2",
   "metadata": {},
   "outputs": [],
   "source": [
    "def wordle():\n",
    "    while True:\n",
    "        word = str(input('Enter A word for the Guesser: ').upper())\n",
    "        clear_output(wait=True)\n",
    "        if len(word) != 5:\n",
    "            print('Not a 5 letter word')\n",
    "        else:\n",
    "            break\n",
    "    print(f'GUESS THE WORD')\n",
    "    print('_ _ _ _ _')\n",
    "    while True:\n",
    "        guess = str(input('').upper())\n",
    "        if guess == word:\n",
    "            print('Thats the word!')\n",
    "            break\n",
    "            \n",
    "wordle()"
   ]
  },
  {
   "cell_type": "code",
   "execution_count": null,
   "id": "601a0e26-4a1e-4b9a-a14f-ec80c1f3030c",
   "metadata": {},
   "outputs": [],
   "source": []
  },
  {
   "cell_type": "code",
   "execution_count": null,
   "id": "ec319dfa-3970-4737-ba07-4f05766047bd",
   "metadata": {},
   "outputs": [],
   "source": []
  }
 ],
 "metadata": {
  "kernelspec": {
   "display_name": "Python 3 (ipykernel)",
   "language": "python",
   "name": "python3"
  },
  "language_info": {
   "codemirror_mode": {
    "name": "ipython",
    "version": 3
   },
   "file_extension": ".py",
   "mimetype": "text/x-python",
   "name": "python",
   "nbconvert_exporter": "python",
   "pygments_lexer": "ipython3",
   "version": "3.12.7"
  }
 },
 "nbformat": 4,
 "nbformat_minor": 5
}
